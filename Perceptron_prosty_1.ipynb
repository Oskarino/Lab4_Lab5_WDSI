{
  "nbformat": 4,
  "nbformat_minor": 0,
  "metadata": {
    "colab": {
      "name": "Perceptron prosty 1.ipynb",
      "provenance": [],
      "collapsed_sections": []
    },
    "kernelspec": {
      "name": "python3",
      "display_name": "Python 3"
    },
    "language_info": {
      "name": "python"
    }
  },
  "cells": [
    {
      "cell_type": "code",
      "metadata": {
        "id": "6EZUr2TER0AE"
      },
      "source": [
        "import numpy as np\n",
        "import tqdm"
      ],
      "execution_count": 16,
      "outputs": []
    },
    {
      "cell_type": "code",
      "metadata": {
        "id": "q1uaMk2KR15r"
      },
      "source": [
        "def hardlims(input):\n",
        "  return (input >0 ).astype(float)"
      ],
      "execution_count": 17,
      "outputs": []
    },
    {
      "cell_type": "code",
      "metadata": {
        "id": "XkFdQnFLR6YV"
      },
      "source": [
        "def delta_rule(X,Y, weights,n_epochs):\n",
        "  dims = X.shape[-1]\n",
        "  for _ in tqdm.tqdm(range(n_epochs)):\n",
        "    for x,y in zip(X,Y):\n",
        "      sum = x@weights\n",
        "      e = y - hardlims(sum)\n",
        "      # print(e*x)\n",
        "      weights = weights + e*x\n",
        "      # print(\"w\", weights, \"k\")\n",
        "  return weights"
      ],
      "execution_count": 18,
      "outputs": []
    },
    {
      "cell_type": "markdown",
      "metadata": {
        "id": "Kz90youpSKoC"
      },
      "source": [
        "#AND"
      ]
    },
    {
      "cell_type": "code",
      "metadata": {
        "id": "2AM-95F1SNhE"
      },
      "source": [
        "#AND\n",
        "X = np.array([[1,0,0],[1,0,1],[1,1,0],[1,1,1]])\n",
        "Y = np.array([0,0,0,1])"
      ],
      "execution_count": 19,
      "outputs": []
    },
    {
      "cell_type": "code",
      "metadata": {
        "colab": {
          "base_uri": "https://localhost:8080/"
        },
        "id": "f5XJrgLQSRIJ",
        "outputId": "c3e2b4ce-5812-4e78-91ea-557f1c8e4d03"
      },
      "source": [
        "weights = np.random.random(size=(X.shape[-1]))\n",
        "print(weights)\n",
        "print(X@weights)\n",
        "print(hardlims(X@weights))\n",
        "print(\"\")"
      ],
      "execution_count": 20,
      "outputs": [
        {
          "output_type": "stream",
          "name": "stdout",
          "text": [
            "[0.52825269 0.99819366 0.26373186]\n",
            "[0.52825269 0.79198454 1.52644635 1.7901782 ]\n",
            "[1. 1. 1. 1.]\n",
            "\n"
          ]
        }
      ]
    },
    {
      "cell_type": "code",
      "metadata": {
        "colab": {
          "base_uri": "https://localhost:8080/"
        },
        "id": "VCOKwr3VSRur",
        "outputId": "0a4fee60-2fa7-4740-94e9-a2d622fa5579"
      },
      "source": [
        "weights = delta_rule(X,Y, weights,n_epochs=100000)"
      ],
      "execution_count": 21,
      "outputs": [
        {
          "output_type": "stream",
          "name": "stderr",
          "text": [
            "100%|██████████| 100000/100000 [00:04<00:00, 24056.67it/s]\n"
          ]
        }
      ]
    },
    {
      "cell_type": "code",
      "metadata": {
        "colab": {
          "base_uri": "https://localhost:8080/"
        },
        "id": "fFr7RC-xSVv_",
        "outputId": "004cfc24-05a7-44c0-8073-50245cb7de47"
      },
      "source": [
        "print(\"Wagi\")\n",
        "print(X@weights)\n",
        "print(hardlims(X@weights))\n",
        "Y"
      ],
      "execution_count": 22,
      "outputs": [
        {
          "output_type": "stream",
          "name": "stdout",
          "text": [
            "Wagi\n",
            "[-2.47174731 -1.20801546 -0.47355365  0.7901782 ]\n",
            "[0. 0. 0. 1.]\n"
          ]
        },
        {
          "output_type": "execute_result",
          "data": {
            "text/plain": [
              "array([0, 0, 0, 1])"
            ]
          },
          "metadata": {},
          "execution_count": 22
        }
      ]
    },
    {
      "cell_type": "markdown",
      "metadata": {
        "id": "Oi0LRe1jShQw"
      },
      "source": [
        "#OR"
      ]
    },
    {
      "cell_type": "code",
      "metadata": {
        "id": "T4LwpRW6Si_v"
      },
      "source": [
        "#OR\n",
        "X = np.array([[1,0,0],[1,0,1],[1,1,0],[1,1,1]])\n",
        "Y = np.array([0,1,1,1])"
      ],
      "execution_count": 23,
      "outputs": []
    },
    {
      "cell_type": "code",
      "metadata": {
        "colab": {
          "base_uri": "https://localhost:8080/"
        },
        "id": "QrKvieeHSljy",
        "outputId": "121400e8-d72f-4629-a0e9-fded080e93b4"
      },
      "source": [
        "weights = np.random.random(size=(X.shape[-1]))\n",
        "print(weights)\n",
        "print(X@weights)\n",
        "print(hardlims(X@weights))\n",
        "print(\"\")"
      ],
      "execution_count": 24,
      "outputs": [
        {
          "output_type": "stream",
          "name": "stdout",
          "text": [
            "[0.4662892  0.79627233 0.82702042]\n",
            "[0.4662892  1.29330962 1.26256153 2.08958195]\n",
            "[1. 1. 1. 1.]\n",
            "\n"
          ]
        }
      ]
    },
    {
      "cell_type": "code",
      "metadata": {
        "colab": {
          "base_uri": "https://localhost:8080/"
        },
        "id": "9d0rJaC-SnJS",
        "outputId": "ad2fe731-9397-4ed1-8ab8-c79a3a1505ae"
      },
      "source": [
        "weights = delta_rule(X,Y, weights,n_epochs=100000)"
      ],
      "execution_count": 25,
      "outputs": [
        {
          "output_type": "stream",
          "name": "stderr",
          "text": [
            "100%|██████████| 100000/100000 [00:04<00:00, 24210.93it/s]\n"
          ]
        }
      ]
    },
    {
      "cell_type": "code",
      "metadata": {
        "colab": {
          "base_uri": "https://localhost:8080/"
        },
        "id": "8EMkZ18USpdy",
        "outputId": "41da3f6e-78c2-4db7-eba6-8d9150e7e5be"
      },
      "source": [
        "print(\"Wagi\")\n",
        "print(X@weights)\n",
        "print(hardlims(X@weights))\n",
        "Y"
      ],
      "execution_count": 26,
      "outputs": [
        {
          "output_type": "stream",
          "name": "stdout",
          "text": [
            "Wagi\n",
            "[-0.5337108   0.29330962  0.26256153  1.08958195]\n",
            "[0. 1. 1. 1.]\n"
          ]
        },
        {
          "output_type": "execute_result",
          "data": {
            "text/plain": [
              "array([0, 1, 1, 1])"
            ]
          },
          "metadata": {},
          "execution_count": 26
        }
      ]
    },
    {
      "cell_type": "markdown",
      "metadata": {
        "id": "kRIAsZZRSyKW"
      },
      "source": [
        "#XOR"
      ]
    },
    {
      "cell_type": "code",
      "metadata": {
        "id": "9N85laTPS7iV"
      },
      "source": [
        "#XOR\n",
        "X = np.array([[1,0,0],[1,0,1],[1,1,0],[1,1,1]])\n",
        "Y = np.array([0,1,1,0])"
      ],
      "execution_count": 27,
      "outputs": []
    },
    {
      "cell_type": "code",
      "metadata": {
        "colab": {
          "base_uri": "https://localhost:8080/"
        },
        "id": "XoXFhcpLS9um",
        "outputId": "6f2c6847-0962-4887-9248-b9c9bf20505b"
      },
      "source": [
        "weights = np.random.random(size=(X.shape[-1]))\n",
        "print(weights)\n",
        "print(X@weights)\n",
        "print(hardlims(X@weights))\n",
        "print(\"\")"
      ],
      "execution_count": 28,
      "outputs": [
        {
          "output_type": "stream",
          "name": "stdout",
          "text": [
            "[0.68847103 0.93638854 0.78498845]\n",
            "[0.68847103 1.47345948 1.62485956 2.40984802]\n",
            "[1. 1. 1. 1.]\n",
            "\n"
          ]
        }
      ]
    },
    {
      "cell_type": "code",
      "metadata": {
        "colab": {
          "base_uri": "https://localhost:8080/"
        },
        "id": "FKIy4GJsTBgB",
        "outputId": "14b097ef-da43-4d9f-d292-955982d2fb42"
      },
      "source": [
        "weights = delta_rule(X,Y, weights,n_epochs=100000)"
      ],
      "execution_count": 29,
      "outputs": [
        {
          "output_type": "stream",
          "name": "stderr",
          "text": [
            "100%|██████████| 100000/100000 [00:04<00:00, 24861.95it/s]\n"
          ]
        }
      ]
    },
    {
      "cell_type": "code",
      "metadata": {
        "colab": {
          "base_uri": "https://localhost:8080/"
        },
        "id": "EuvgvHAxTDk5",
        "outputId": "bf666be3-d2f4-4f19-8b56-9526f9aa6acc"
      },
      "source": [
        "print(\"Wagi\")\n",
        "print(X@weights)\n",
        "print(hardlims(X@weights))\n",
        "Y"
      ],
      "execution_count": 30,
      "outputs": [
        {
          "output_type": "stream",
          "name": "stdout",
          "text": [
            "Wagi\n",
            "[ 0.68847103  0.47345948 -0.37514044 -0.59015198]\n",
            "[1. 1. 0. 0.]\n"
          ]
        },
        {
          "output_type": "execute_result",
          "data": {
            "text/plain": [
              "array([0, 1, 1, 0])"
            ]
          },
          "metadata": {},
          "execution_count": 30
        }
      ]
    }
  ]
}